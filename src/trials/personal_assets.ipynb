{
 "metadata": {
  "language_info": {
   "codemirror_mode": {
    "name": "ipython",
    "version": 3
   },
   "file_extension": ".py",
   "mimetype": "text/x-python",
   "name": "python",
   "nbconvert_exporter": "python",
   "pygments_lexer": "ipython3",
   "version": "3.7.7-final"
  },
  "orig_nbformat": 2,
  "kernelspec": {
   "name": "python3",
   "display_name": "Python 3",
   "language": "python"
  }
 },
 "nbformat": 4,
 "nbformat_minor": 2,
 "cells": [
  {
   "cell_type": "code",
   "execution_count": 1,
   "metadata": {},
   "outputs": [],
   "source": [
    "import pandas as pd\n",
    "p = \"/home/gordon/work/Where-To-Put-Your-Money-In-Hard-Times/data/\""
   ]
  },
  {
   "cell_type": "code",
   "execution_count": 4,
   "metadata": {},
   "outputs": [],
   "source": [
    "broker = pd.read_csv(p + '/personal_assets/chuckBrokerage_positions.csv')\n",
    "roth = pd.read_csv(p + '/personal_assets/chuckRoth_positions.csv')\n",
    "moveOn = pd.read_csv(p + '/personal_assets/yahooFinancial_moveOn.csv')\n",
    "potential = pd.read_csv(p + '/personal_assets/yahooFinancial_potential.csv')\n",
    "\n",
    "broker_pos = list(broker.Symbol[:27])\n",
    "roth_pos = list(roth.Symbol[:9])\n",
    "moveOn_pos = list(moveOn.Symbol)\n",
    "potential_pos = list(potential.Symbol)"
   ]
  },
  {
   "cell_type": "code",
   "execution_count": 19,
   "metadata": {},
   "outputs": [
    {
     "output_type": "stream",
     "name": "stdout",
     "text": [
      "27\n9\n10\n142\n"
     ]
    },
    {
     "output_type": "execute_result",
     "data": {
      "text/plain": [
       "188"
      ]
     },
     "metadata": {},
     "execution_count": 19
    },
    {
     "output_type": "stream",
     "name": "stdout",
     "text": [
      "172\n"
     ]
    }
   ],
   "source": [
    "pos_lst = []\n",
    "len_lst = []\n",
    "def appends(lst):\n",
    "    print(len(lst))\n",
    "    len_lst.append(len(lst))\n",
    "    for l in lst:\n",
    "        pos_lst.append(l)\n",
    "\n",
    "appends(broker_pos)\n",
    "appends(roth_pos)\n",
    "appends(moveOn_pos)\n",
    "appends(potential_pos)\n",
    "len(pos_lst)\n",
    "\n",
    "c = 0.0\n",
    "for l in len_lst:\n",
    "    c += float(l)\n",
    "\n",
    "pos_set = set(pos_lst)\n",
    "pos_list = list(pos_set)\n",
    "pos_list.sort()\n",
    "print(len(pos_list))"
   ]
  },
  {
   "cell_type": "code",
   "execution_count": 13,
   "metadata": {},
   "outputs": [],
   "source": [
    "import pickle\n",
    "\n",
    "def pickle_dem(lst, save_name):\n",
    "    p2 = '/home/gordon/work/Where-To-Put-Your-Money-In-Hard-Times/data/tickers/'\n",
    "    new_path = p2 + save_name\n",
    "    open_file = open(new_path, \"wb\")\n",
    "    pickle.dump(lst, open_file)\n",
    "    open_file.close()"
   ]
  },
  {
   "cell_type": "code",
   "execution_count": 15,
   "metadata": {},
   "outputs": [],
   "source": [
    "pickle_dem(broker_pos, 'broker_pos.pkl')\n",
    "pickle_dem(roth_pos, 'roth_pos.pkl')\n",
    "pickle_dem(moveOn_pos, 'moveOn_pos.pkl')\n",
    "pickle_dem(potential_pos, 'potential_pos.pkl')"
   ]
  },
  {
   "cell_type": "code",
   "execution_count": 24,
   "metadata": {},
   "outputs": [],
   "source": [
    "p3 = '/home/gordon/work/Where-To-Put-Your-Money-In-Hard-Times/data/'\n",
    "lst = ['broker_pos', 'roth_pos', 'moveOn_pos', 'potential_pos']"
   ]
  },
  {
   "cell_type": "code",
   "execution_count": 35,
   "metadata": {},
   "outputs": [
    {
     "output_type": "stream",
     "name": "stdout",
     "text": [
      "[*********************100%***********************]  26 of 26 completed\n",
      "[*********************100%***********************]  9 of 9 completed\n",
      "[*********************100%***********************]  10 of 10 completed\n",
      "[*********************100%***********************]  142 of 142 completed\n"
     ]
    }
   ],
   "source": [
    "from pandas.io.pickle import read_pickle\n",
    "import yfinance as yf\n",
    "\n",
    "for l in lst:\n",
    "    new = p3 + 'tickers/' + l + '.pkl'\n",
    "    tic_lst = read_pickle(new)\n",
    "    per, inter = '1y', '1d'\n",
    "    df = yf.download(tic_lst, period=per, interval=inter)['Adj Close']\n",
    "    df.to_pickle(p3 + 'raw/' + l + '_data_' + per + '_' + inter + '.pkl')"
   ]
  },
  {
   "cell_type": "code",
   "execution_count": 36,
   "metadata": {},
   "outputs": [
    {
     "output_type": "execute_result",
     "data": {
      "text/plain": [
       "                  AAPL       ARKG        ARKK       ARKQ        ARKW  \\\n",
       "Date                                                                   \n",
       "2011-01-07   10.355506        NaN         NaN        NaN         NaN   \n",
       "2011-01-10   10.550530        NaN         NaN        NaN         NaN   \n",
       "2011-01-11   10.525573        NaN         NaN        NaN         NaN   \n",
       "2011-01-12   10.611223        NaN         NaN        NaN         NaN   \n",
       "2011-01-13   10.650039        NaN         NaN        NaN         NaN   \n",
       "...                ...        ...         ...        ...         ...   \n",
       "2020-12-30  133.720001  96.040001  127.099998  76.550003  147.610001   \n",
       "2020-12-31  132.690002  93.260002  124.489998  76.290001  146.360001   \n",
       "2021-01-04  129.410004  93.139999  124.690002  76.839996  145.770004   \n",
       "2021-01-05  131.009995  94.375000  127.760002  78.699997  149.710007   \n",
       "2021-01-06  126.599998  95.279999  128.229996  79.089996  148.039993   \n",
       "\n",
       "                 BLDP         BLNK        CRSP   CURLF        FCEL       FUBO  \\\n",
       "Date                                                                            \n",
       "2011-01-07   1.620000   902.500000         NaN     NaN  299.519989        NaN   \n",
       "2011-01-10   1.630000   950.000000         NaN     NaN  289.440002        NaN   \n",
       "2011-01-11   1.630000  1000.000000         NaN     NaN  279.359985        NaN   \n",
       "2011-01-12   1.640000   975.000000         NaN     NaN  286.559998        NaN   \n",
       "2011-01-13   1.630000   975.000000         NaN     NaN  288.000000        NaN   \n",
       "...               ...          ...         ...     ...         ...        ...   \n",
       "2020-12-30  23.559999    45.240002  161.570007  11.930   11.740000  33.310001   \n",
       "2020-12-31  23.400000    42.750000  153.110001  11.972   11.170000  28.000000   \n",
       "2021-01-04  22.530001    37.505001  158.009995  12.890   10.610000  24.240000   \n",
       "2021-01-05  23.080000    40.590000  160.619995  13.253   11.200000  27.330000   \n",
       "2021-01-06  24.305000    41.369999  163.850006  14.350   12.300000  27.170000   \n",
       "\n",
       "                 GBTC  GTBIF       JMIA       LAZR        LMND        NET  \\\n",
       "Date                                                                        \n",
       "2011-01-07        NaN    NaN        NaN        NaN         NaN        NaN   \n",
       "2011-01-10        NaN    NaN        NaN        NaN         NaN        NaN   \n",
       "2011-01-11        NaN    NaN        NaN        NaN         NaN        NaN   \n",
       "2011-01-12        NaN    NaN        NaN        NaN         NaN        NaN   \n",
       "2011-01-13        NaN    NaN        NaN        NaN         NaN        NaN   \n",
       "...               ...    ...        ...        ...         ...        ...   \n",
       "2020-12-30  32.900002  23.84  42.560001  36.139999  129.889999  77.529999   \n",
       "2020-12-31  32.000000  24.50  40.349998  34.000000  122.500000  75.989998   \n",
       "2021-01-04  35.080002  24.90  35.680000  31.340000  113.360001  74.589996   \n",
       "2021-01-05  39.410000  25.25  36.240002  30.049999  122.000000  75.139999   \n",
       "2021-01-06  43.930000  27.18  33.209999  30.670000  119.339996  73.269997   \n",
       "\n",
       "                 NTLA       PLTR       PLUG         QS       SAIL        SNOW  \\\n",
       "Date                                                                            \n",
       "2011-01-07        NaN        NaN   4.300000        NaN        NaN         NaN   \n",
       "2011-01-10        NaN        NaN   4.600000        NaN        NaN         NaN   \n",
       "2011-01-11        NaN        NaN   4.800000        NaN        NaN         NaN   \n",
       "2011-01-12        NaN        NaN   5.200000        NaN        NaN         NaN   \n",
       "2011-01-13        NaN        NaN   6.100000        NaN        NaN         NaN   \n",
       "...               ...        ...        ...        ...        ...         ...   \n",
       "2020-12-30  56.580002  25.100000  34.189999  98.290001  53.660000  300.920013   \n",
       "2020-12-31  54.400002  23.549999  33.910000  84.449997  53.240002  281.399994   \n",
       "2021-01-04  55.910000  23.370001  32.169998  49.959999  52.349998  278.239990   \n",
       "2021-01-05  61.009998  24.600000  32.549999  59.500000  53.349998  283.829987   \n",
       "2021-01-06  66.739998  23.540001  35.000000  63.029999  53.990002  268.019989   \n",
       "\n",
       "                    SQ        TSLA       VLDR  \n",
       "Date                                           \n",
       "2011-01-07         NaN    5.648000        NaN  \n",
       "2011-01-10         NaN    5.690000        NaN  \n",
       "2011-01-11         NaN    5.392000        NaN  \n",
       "2011-01-12         NaN    5.392000        NaN  \n",
       "2011-01-13         NaN    5.244000        NaN  \n",
       "...                ...         ...        ...  \n",
       "2020-12-30  221.039993  694.780029  24.500000  \n",
       "2020-12-31  217.639999  705.669983  22.820000  \n",
       "2021-01-04  221.160004  729.770020  21.910000  \n",
       "2021-01-05  229.750000  735.109985  22.670000  \n",
       "2021-01-06  226.889999  755.979980  22.690001  \n",
       "\n",
       "[2516 rows x 26 columns]"
      ],
      "text/html": "<div>\n<style scoped>\n    .dataframe tbody tr th:only-of-type {\n        vertical-align: middle;\n    }\n\n    .dataframe tbody tr th {\n        vertical-align: top;\n    }\n\n    .dataframe thead th {\n        text-align: right;\n    }\n</style>\n<table border=\"1\" class=\"dataframe\">\n  <thead>\n    <tr style=\"text-align: right;\">\n      <th></th>\n      <th>AAPL</th>\n      <th>ARKG</th>\n      <th>ARKK</th>\n      <th>ARKQ</th>\n      <th>ARKW</th>\n      <th>BLDP</th>\n      <th>BLNK</th>\n      <th>CRSP</th>\n      <th>CURLF</th>\n      <th>FCEL</th>\n      <th>FUBO</th>\n      <th>GBTC</th>\n      <th>GTBIF</th>\n      <th>JMIA</th>\n      <th>LAZR</th>\n      <th>LMND</th>\n      <th>NET</th>\n      <th>NTLA</th>\n      <th>PLTR</th>\n      <th>PLUG</th>\n      <th>QS</th>\n      <th>SAIL</th>\n      <th>SNOW</th>\n      <th>SQ</th>\n      <th>TSLA</th>\n      <th>VLDR</th>\n    </tr>\n    <tr>\n      <th>Date</th>\n      <th></th>\n      <th></th>\n      <th></th>\n      <th></th>\n      <th></th>\n      <th></th>\n      <th></th>\n      <th></th>\n      <th></th>\n      <th></th>\n      <th></th>\n      <th></th>\n      <th></th>\n      <th></th>\n      <th></th>\n      <th></th>\n      <th></th>\n      <th></th>\n      <th></th>\n      <th></th>\n      <th></th>\n      <th></th>\n      <th></th>\n      <th></th>\n      <th></th>\n      <th></th>\n    </tr>\n  </thead>\n  <tbody>\n    <tr>\n      <th>2011-01-07</th>\n      <td>10.355506</td>\n      <td>NaN</td>\n      <td>NaN</td>\n      <td>NaN</td>\n      <td>NaN</td>\n      <td>1.620000</td>\n      <td>902.500000</td>\n      <td>NaN</td>\n      <td>NaN</td>\n      <td>299.519989</td>\n      <td>NaN</td>\n      <td>NaN</td>\n      <td>NaN</td>\n      <td>NaN</td>\n      <td>NaN</td>\n      <td>NaN</td>\n      <td>NaN</td>\n      <td>NaN</td>\n      <td>NaN</td>\n      <td>4.300000</td>\n      <td>NaN</td>\n      <td>NaN</td>\n      <td>NaN</td>\n      <td>NaN</td>\n      <td>5.648000</td>\n      <td>NaN</td>\n    </tr>\n    <tr>\n      <th>2011-01-10</th>\n      <td>10.550530</td>\n      <td>NaN</td>\n      <td>NaN</td>\n      <td>NaN</td>\n      <td>NaN</td>\n      <td>1.630000</td>\n      <td>950.000000</td>\n      <td>NaN</td>\n      <td>NaN</td>\n      <td>289.440002</td>\n      <td>NaN</td>\n      <td>NaN</td>\n      <td>NaN</td>\n      <td>NaN</td>\n      <td>NaN</td>\n      <td>NaN</td>\n      <td>NaN</td>\n      <td>NaN</td>\n      <td>NaN</td>\n      <td>4.600000</td>\n      <td>NaN</td>\n      <td>NaN</td>\n      <td>NaN</td>\n      <td>NaN</td>\n      <td>5.690000</td>\n      <td>NaN</td>\n    </tr>\n    <tr>\n      <th>2011-01-11</th>\n      <td>10.525573</td>\n      <td>NaN</td>\n      <td>NaN</td>\n      <td>NaN</td>\n      <td>NaN</td>\n      <td>1.630000</td>\n      <td>1000.000000</td>\n      <td>NaN</td>\n      <td>NaN</td>\n      <td>279.359985</td>\n      <td>NaN</td>\n      <td>NaN</td>\n      <td>NaN</td>\n      <td>NaN</td>\n      <td>NaN</td>\n      <td>NaN</td>\n      <td>NaN</td>\n      <td>NaN</td>\n      <td>NaN</td>\n      <td>4.800000</td>\n      <td>NaN</td>\n      <td>NaN</td>\n      <td>NaN</td>\n      <td>NaN</td>\n      <td>5.392000</td>\n      <td>NaN</td>\n    </tr>\n    <tr>\n      <th>2011-01-12</th>\n      <td>10.611223</td>\n      <td>NaN</td>\n      <td>NaN</td>\n      <td>NaN</td>\n      <td>NaN</td>\n      <td>1.640000</td>\n      <td>975.000000</td>\n      <td>NaN</td>\n      <td>NaN</td>\n      <td>286.559998</td>\n      <td>NaN</td>\n      <td>NaN</td>\n      <td>NaN</td>\n      <td>NaN</td>\n      <td>NaN</td>\n      <td>NaN</td>\n      <td>NaN</td>\n      <td>NaN</td>\n      <td>NaN</td>\n      <td>5.200000</td>\n      <td>NaN</td>\n      <td>NaN</td>\n      <td>NaN</td>\n      <td>NaN</td>\n      <td>5.392000</td>\n      <td>NaN</td>\n    </tr>\n    <tr>\n      <th>2011-01-13</th>\n      <td>10.650039</td>\n      <td>NaN</td>\n      <td>NaN</td>\n      <td>NaN</td>\n      <td>NaN</td>\n      <td>1.630000</td>\n      <td>975.000000</td>\n      <td>NaN</td>\n      <td>NaN</td>\n      <td>288.000000</td>\n      <td>NaN</td>\n      <td>NaN</td>\n      <td>NaN</td>\n      <td>NaN</td>\n      <td>NaN</td>\n      <td>NaN</td>\n      <td>NaN</td>\n      <td>NaN</td>\n      <td>NaN</td>\n      <td>6.100000</td>\n      <td>NaN</td>\n      <td>NaN</td>\n      <td>NaN</td>\n      <td>NaN</td>\n      <td>5.244000</td>\n      <td>NaN</td>\n    </tr>\n    <tr>\n      <th>...</th>\n      <td>...</td>\n      <td>...</td>\n      <td>...</td>\n      <td>...</td>\n      <td>...</td>\n      <td>...</td>\n      <td>...</td>\n      <td>...</td>\n      <td>...</td>\n      <td>...</td>\n      <td>...</td>\n      <td>...</td>\n      <td>...</td>\n      <td>...</td>\n      <td>...</td>\n      <td>...</td>\n      <td>...</td>\n      <td>...</td>\n      <td>...</td>\n      <td>...</td>\n      <td>...</td>\n      <td>...</td>\n      <td>...</td>\n      <td>...</td>\n      <td>...</td>\n      <td>...</td>\n    </tr>\n    <tr>\n      <th>2020-12-30</th>\n      <td>133.720001</td>\n      <td>96.040001</td>\n      <td>127.099998</td>\n      <td>76.550003</td>\n      <td>147.610001</td>\n      <td>23.559999</td>\n      <td>45.240002</td>\n      <td>161.570007</td>\n      <td>11.930</td>\n      <td>11.740000</td>\n      <td>33.310001</td>\n      <td>32.900002</td>\n      <td>23.84</td>\n      <td>42.560001</td>\n      <td>36.139999</td>\n      <td>129.889999</td>\n      <td>77.529999</td>\n      <td>56.580002</td>\n      <td>25.100000</td>\n      <td>34.189999</td>\n      <td>98.290001</td>\n      <td>53.660000</td>\n      <td>300.920013</td>\n      <td>221.039993</td>\n      <td>694.780029</td>\n      <td>24.500000</td>\n    </tr>\n    <tr>\n      <th>2020-12-31</th>\n      <td>132.690002</td>\n      <td>93.260002</td>\n      <td>124.489998</td>\n      <td>76.290001</td>\n      <td>146.360001</td>\n      <td>23.400000</td>\n      <td>42.750000</td>\n      <td>153.110001</td>\n      <td>11.972</td>\n      <td>11.170000</td>\n      <td>28.000000</td>\n      <td>32.000000</td>\n      <td>24.50</td>\n      <td>40.349998</td>\n      <td>34.000000</td>\n      <td>122.500000</td>\n      <td>75.989998</td>\n      <td>54.400002</td>\n      <td>23.549999</td>\n      <td>33.910000</td>\n      <td>84.449997</td>\n      <td>53.240002</td>\n      <td>281.399994</td>\n      <td>217.639999</td>\n      <td>705.669983</td>\n      <td>22.820000</td>\n    </tr>\n    <tr>\n      <th>2021-01-04</th>\n      <td>129.410004</td>\n      <td>93.139999</td>\n      <td>124.690002</td>\n      <td>76.839996</td>\n      <td>145.770004</td>\n      <td>22.530001</td>\n      <td>37.505001</td>\n      <td>158.009995</td>\n      <td>12.890</td>\n      <td>10.610000</td>\n      <td>24.240000</td>\n      <td>35.080002</td>\n      <td>24.90</td>\n      <td>35.680000</td>\n      <td>31.340000</td>\n      <td>113.360001</td>\n      <td>74.589996</td>\n      <td>55.910000</td>\n      <td>23.370001</td>\n      <td>32.169998</td>\n      <td>49.959999</td>\n      <td>52.349998</td>\n      <td>278.239990</td>\n      <td>221.160004</td>\n      <td>729.770020</td>\n      <td>21.910000</td>\n    </tr>\n    <tr>\n      <th>2021-01-05</th>\n      <td>131.009995</td>\n      <td>94.375000</td>\n      <td>127.760002</td>\n      <td>78.699997</td>\n      <td>149.710007</td>\n      <td>23.080000</td>\n      <td>40.590000</td>\n      <td>160.619995</td>\n      <td>13.253</td>\n      <td>11.200000</td>\n      <td>27.330000</td>\n      <td>39.410000</td>\n      <td>25.25</td>\n      <td>36.240002</td>\n      <td>30.049999</td>\n      <td>122.000000</td>\n      <td>75.139999</td>\n      <td>61.009998</td>\n      <td>24.600000</td>\n      <td>32.549999</td>\n      <td>59.500000</td>\n      <td>53.349998</td>\n      <td>283.829987</td>\n      <td>229.750000</td>\n      <td>735.109985</td>\n      <td>22.670000</td>\n    </tr>\n    <tr>\n      <th>2021-01-06</th>\n      <td>126.599998</td>\n      <td>95.279999</td>\n      <td>128.229996</td>\n      <td>79.089996</td>\n      <td>148.039993</td>\n      <td>24.305000</td>\n      <td>41.369999</td>\n      <td>163.850006</td>\n      <td>14.350</td>\n      <td>12.300000</td>\n      <td>27.170000</td>\n      <td>43.930000</td>\n      <td>27.18</td>\n      <td>33.209999</td>\n      <td>30.670000</td>\n      <td>119.339996</td>\n      <td>73.269997</td>\n      <td>66.739998</td>\n      <td>23.540001</td>\n      <td>35.000000</td>\n      <td>63.029999</td>\n      <td>53.990002</td>\n      <td>268.019989</td>\n      <td>226.889999</td>\n      <td>755.979980</td>\n      <td>22.690001</td>\n    </tr>\n  </tbody>\n</table>\n<p>2516 rows × 26 columns</p>\n</div>"
     },
     "metadata": {},
     "execution_count": 36
    }
   ],
   "source": [
    "fd = read_pickle(p3 + 'raw/broker_pos_data_10y_1d.pkl')\n",
    "fd\n",
    "# /home/gordon/work/Where-To-Put-Your-Money-In-Hard-Times/data/"
   ]
  },
  {
   "cell_type": "code",
   "execution_count": 45,
   "metadata": {},
   "outputs": [
    {
     "output_type": "execute_result",
     "data": {
      "text/plain": [
       "                AACG   AACQ  AACQU  AACQW        AAL      AAME  AAOI  \\\n",
       "Date                                                                   \n",
       "2011-01-05       NaN    NaN    NaN    NaN        NaN       NaN   NaN   \n",
       "2011-01-06       NaN    NaN    NaN    NaN        NaN       NaN   NaN   \n",
       "2011-01-07  0.039149    NaN    NaN    NaN  10.747252  1.903669   NaN   \n",
       "2011-01-10  0.038945    NaN    NaN    NaN  10.813245  1.903669   NaN   \n",
       "2011-01-11  0.038640    NaN    NaN    NaN  10.341875  1.829741   NaN   \n",
       "...              ...    ...    ...    ...        ...       ...   ...   \n",
       "2020-12-29  1.190000  10.54  11.32    NaN  15.860000  2.100000  8.80   \n",
       "2020-12-30  1.190000  10.47  11.22    NaN  16.150000  2.100000  8.60   \n",
       "2020-12-31  1.190000  10.63  11.24    NaN  15.770000  2.060000  8.51   \n",
       "2021-01-04  1.180000  10.66  11.30    NaN  15.130000  2.140000  8.76   \n",
       "2021-01-05  1.230000  10.56  11.29   2.12  15.430000  2.600000  8.91   \n",
       "\n",
       "                 AAON        AAPL       AAWW       AAXJ        AAXN  \\\n",
       "Date                                                                  \n",
       "2011-01-05        NaN         NaN        NaN        NaN         NaN   \n",
       "2011-01-06        NaN   10.281874        NaN        NaN         NaN   \n",
       "2011-01-07   7.247061   10.355506  52.889999  52.952225    4.790000   \n",
       "2011-01-10   7.303931   10.550530  51.950001  52.197300    4.780000   \n",
       "2011-01-11   7.358095   10.525573  51.970001  52.595509    4.870000   \n",
       "...               ...         ...        ...        ...         ...   \n",
       "2020-12-29  66.720001  134.869995  54.000000  88.160004  123.330002   \n",
       "2020-12-30  66.489998  133.720001  54.610001  89.699997  123.879997   \n",
       "2020-12-31  66.629997  132.690002  54.540001  89.610001  122.529999   \n",
       "2021-01-04  64.709999  129.410004  55.389999  90.430000  116.849998   \n",
       "2021-01-05  65.440002  131.009995  53.790001  92.650002  122.300003   \n",
       "\n",
       "                 ABCB       ABCL       ABCM  ...          ZM  ZNGA  ZNTEU  \\\n",
       "Date                                         ...                            \n",
       "2011-01-05        NaN        NaN        NaN  ...         NaN   NaN    NaN   \n",
       "2011-01-06  10.276255        NaN        NaN  ...         NaN   NaN    NaN   \n",
       "2011-01-07  10.165161        NaN        NaN  ...         NaN   NaN    NaN   \n",
       "2011-01-10  10.072579        NaN        NaN  ...         NaN   NaN    NaN   \n",
       "2011-01-11  10.026293        NaN        NaN  ...         NaN   NaN    NaN   \n",
       "...               ...        ...        ...  ...         ...   ...    ...   \n",
       "2020-12-29  37.250004  39.000000  20.299999  ...  353.750000  9.61  10.45   \n",
       "2020-12-30  37.959999  41.099998  22.450001  ...  353.399994  9.72  10.41   \n",
       "2020-12-31  38.070000  40.240002  21.549999  ...  337.320007  9.87  10.52   \n",
       "2021-01-04  38.099998  39.099998  20.469999  ...  359.980011  9.77  10.58   \n",
       "2021-01-05  39.110001  38.509998  20.290001  ...  360.829987  9.84  10.59   \n",
       "\n",
       "                 ZNTL          ZS   ZSAN       ZUMZ   ZVO  ZVZZC  ZVZZT  \\\n",
       "Date                                                                      \n",
       "2011-01-05        NaN         NaN    NaN        NaN   NaN    NaN    NaN   \n",
       "2011-01-06        NaN         NaN    NaN        NaN   NaN    NaN    NaN   \n",
       "2011-01-07        NaN         NaN    NaN  25.639999   NaN    NaN    NaN   \n",
       "2011-01-10        NaN         NaN    NaN  25.600000   NaN    NaN    NaN   \n",
       "2011-01-11        NaN         NaN    NaN  24.510000   NaN    NaN    NaN   \n",
       "...               ...         ...    ...        ...   ...    ...    ...   \n",
       "2020-12-29  54.540001  197.839996  0.558  36.610001  4.20    NaN    NaN   \n",
       "2020-12-30  55.700001  201.309998  0.564  36.619999  4.44    NaN    NaN   \n",
       "2020-12-31  51.939999  199.710007  0.527  36.779999  4.74    NaN    NaN   \n",
       "2021-01-04  52.720001  196.089996  0.582  35.700001  4.61    NaN    NaN   \n",
       "2021-01-05  52.119999  193.479996  0.805  36.080002  5.13    NaN  10.02   \n",
       "\n",
       "            ZWZZT  ZXYZ.A  ZXZZT   ZYNE     ZYXI  \n",
       "Date                                              \n",
       "2011-01-05    NaN     NaN    NaN    NaN      NaN  \n",
       "2011-01-06    NaN     NaN    NaN    NaN      NaN  \n",
       "2011-01-07    NaN     NaN    NaN    NaN   0.3482  \n",
       "2011-01-10    NaN     NaN    NaN    NaN   0.3482  \n",
       "2011-01-11    NaN     NaN    NaN    NaN   0.3482  \n",
       "...           ...     ...    ...    ...      ...  \n",
       "2020-12-29    NaN     NaN    NaN  3.270  13.3200  \n",
       "2020-12-30    NaN     NaN    NaN  3.320  14.0600  \n",
       "2020-12-31    NaN     NaN   8.99  3.300  13.4600  \n",
       "2021-01-04   22.0     NaN    NaN  3.325  13.8800  \n",
       "2021-01-05    NaN     NaN    NaN  3.390  13.5100  \n",
       "\n",
       "[2517 rows x 3949 columns]"
      ],
      "text/html": "<div>\n<style scoped>\n    .dataframe tbody tr th:only-of-type {\n        vertical-align: middle;\n    }\n\n    .dataframe tbody tr th {\n        vertical-align: top;\n    }\n\n    .dataframe thead th {\n        text-align: right;\n    }\n</style>\n<table border=\"1\" class=\"dataframe\">\n  <thead>\n    <tr style=\"text-align: right;\">\n      <th></th>\n      <th>AACG</th>\n      <th>AACQ</th>\n      <th>AACQU</th>\n      <th>AACQW</th>\n      <th>AAL</th>\n      <th>AAME</th>\n      <th>AAOI</th>\n      <th>AAON</th>\n      <th>AAPL</th>\n      <th>AAWW</th>\n      <th>AAXJ</th>\n      <th>AAXN</th>\n      <th>ABCB</th>\n      <th>ABCL</th>\n      <th>ABCM</th>\n      <th>...</th>\n      <th>ZM</th>\n      <th>ZNGA</th>\n      <th>ZNTEU</th>\n      <th>ZNTL</th>\n      <th>ZS</th>\n      <th>ZSAN</th>\n      <th>ZUMZ</th>\n      <th>ZVO</th>\n      <th>ZVZZC</th>\n      <th>ZVZZT</th>\n      <th>ZWZZT</th>\n      <th>ZXYZ.A</th>\n      <th>ZXZZT</th>\n      <th>ZYNE</th>\n      <th>ZYXI</th>\n    </tr>\n    <tr>\n      <th>Date</th>\n      <th></th>\n      <th></th>\n      <th></th>\n      <th></th>\n      <th></th>\n      <th></th>\n      <th></th>\n      <th></th>\n      <th></th>\n      <th></th>\n      <th></th>\n      <th></th>\n      <th></th>\n      <th></th>\n      <th></th>\n      <th></th>\n      <th></th>\n      <th></th>\n      <th></th>\n      <th></th>\n      <th></th>\n      <th></th>\n      <th></th>\n      <th></th>\n      <th></th>\n      <th></th>\n      <th></th>\n      <th></th>\n      <th></th>\n      <th></th>\n      <th></th>\n    </tr>\n  </thead>\n  <tbody>\n    <tr>\n      <th>2011-01-05</th>\n      <td>NaN</td>\n      <td>NaN</td>\n      <td>NaN</td>\n      <td>NaN</td>\n      <td>NaN</td>\n      <td>NaN</td>\n      <td>NaN</td>\n      <td>NaN</td>\n      <td>NaN</td>\n      <td>NaN</td>\n      <td>NaN</td>\n      <td>NaN</td>\n      <td>NaN</td>\n      <td>NaN</td>\n      <td>NaN</td>\n      <td>...</td>\n      <td>NaN</td>\n      <td>NaN</td>\n      <td>NaN</td>\n      <td>NaN</td>\n      <td>NaN</td>\n      <td>NaN</td>\n      <td>NaN</td>\n      <td>NaN</td>\n      <td>NaN</td>\n      <td>NaN</td>\n      <td>NaN</td>\n      <td>NaN</td>\n      <td>NaN</td>\n      <td>NaN</td>\n      <td>NaN</td>\n    </tr>\n    <tr>\n      <th>2011-01-06</th>\n      <td>NaN</td>\n      <td>NaN</td>\n      <td>NaN</td>\n      <td>NaN</td>\n      <td>NaN</td>\n      <td>NaN</td>\n      <td>NaN</td>\n      <td>NaN</td>\n      <td>10.281874</td>\n      <td>NaN</td>\n      <td>NaN</td>\n      <td>NaN</td>\n      <td>10.276255</td>\n      <td>NaN</td>\n      <td>NaN</td>\n      <td>...</td>\n      <td>NaN</td>\n      <td>NaN</td>\n      <td>NaN</td>\n      <td>NaN</td>\n      <td>NaN</td>\n      <td>NaN</td>\n      <td>NaN</td>\n      <td>NaN</td>\n      <td>NaN</td>\n      <td>NaN</td>\n      <td>NaN</td>\n      <td>NaN</td>\n      <td>NaN</td>\n      <td>NaN</td>\n      <td>NaN</td>\n    </tr>\n    <tr>\n      <th>2011-01-07</th>\n      <td>0.039149</td>\n      <td>NaN</td>\n      <td>NaN</td>\n      <td>NaN</td>\n      <td>10.747252</td>\n      <td>1.903669</td>\n      <td>NaN</td>\n      <td>7.247061</td>\n      <td>10.355506</td>\n      <td>52.889999</td>\n      <td>52.952225</td>\n      <td>4.790000</td>\n      <td>10.165161</td>\n      <td>NaN</td>\n      <td>NaN</td>\n      <td>...</td>\n      <td>NaN</td>\n      <td>NaN</td>\n      <td>NaN</td>\n      <td>NaN</td>\n      <td>NaN</td>\n      <td>NaN</td>\n      <td>25.639999</td>\n      <td>NaN</td>\n      <td>NaN</td>\n      <td>NaN</td>\n      <td>NaN</td>\n      <td>NaN</td>\n      <td>NaN</td>\n      <td>NaN</td>\n      <td>0.3482</td>\n    </tr>\n    <tr>\n      <th>2011-01-10</th>\n      <td>0.038945</td>\n      <td>NaN</td>\n      <td>NaN</td>\n      <td>NaN</td>\n      <td>10.813245</td>\n      <td>1.903669</td>\n      <td>NaN</td>\n      <td>7.303931</td>\n      <td>10.550530</td>\n      <td>51.950001</td>\n      <td>52.197300</td>\n      <td>4.780000</td>\n      <td>10.072579</td>\n      <td>NaN</td>\n      <td>NaN</td>\n      <td>...</td>\n      <td>NaN</td>\n      <td>NaN</td>\n      <td>NaN</td>\n      <td>NaN</td>\n      <td>NaN</td>\n      <td>NaN</td>\n      <td>25.600000</td>\n      <td>NaN</td>\n      <td>NaN</td>\n      <td>NaN</td>\n      <td>NaN</td>\n      <td>NaN</td>\n      <td>NaN</td>\n      <td>NaN</td>\n      <td>0.3482</td>\n    </tr>\n    <tr>\n      <th>2011-01-11</th>\n      <td>0.038640</td>\n      <td>NaN</td>\n      <td>NaN</td>\n      <td>NaN</td>\n      <td>10.341875</td>\n      <td>1.829741</td>\n      <td>NaN</td>\n      <td>7.358095</td>\n      <td>10.525573</td>\n      <td>51.970001</td>\n      <td>52.595509</td>\n      <td>4.870000</td>\n      <td>10.026293</td>\n      <td>NaN</td>\n      <td>NaN</td>\n      <td>...</td>\n      <td>NaN</td>\n      <td>NaN</td>\n      <td>NaN</td>\n      <td>NaN</td>\n      <td>NaN</td>\n      <td>NaN</td>\n      <td>24.510000</td>\n      <td>NaN</td>\n      <td>NaN</td>\n      <td>NaN</td>\n      <td>NaN</td>\n      <td>NaN</td>\n      <td>NaN</td>\n      <td>NaN</td>\n      <td>0.3482</td>\n    </tr>\n    <tr>\n      <th>...</th>\n      <td>...</td>\n      <td>...</td>\n      <td>...</td>\n      <td>...</td>\n      <td>...</td>\n      <td>...</td>\n      <td>...</td>\n      <td>...</td>\n      <td>...</td>\n      <td>...</td>\n      <td>...</td>\n      <td>...</td>\n      <td>...</td>\n      <td>...</td>\n      <td>...</td>\n      <td>...</td>\n      <td>...</td>\n      <td>...</td>\n      <td>...</td>\n      <td>...</td>\n      <td>...</td>\n      <td>...</td>\n      <td>...</td>\n      <td>...</td>\n      <td>...</td>\n      <td>...</td>\n      <td>...</td>\n      <td>...</td>\n      <td>...</td>\n      <td>...</td>\n      <td>...</td>\n    </tr>\n    <tr>\n      <th>2020-12-29</th>\n      <td>1.190000</td>\n      <td>10.54</td>\n      <td>11.32</td>\n      <td>NaN</td>\n      <td>15.860000</td>\n      <td>2.100000</td>\n      <td>8.80</td>\n      <td>66.720001</td>\n      <td>134.869995</td>\n      <td>54.000000</td>\n      <td>88.160004</td>\n      <td>123.330002</td>\n      <td>37.250004</td>\n      <td>39.000000</td>\n      <td>20.299999</td>\n      <td>...</td>\n      <td>353.750000</td>\n      <td>9.61</td>\n      <td>10.45</td>\n      <td>54.540001</td>\n      <td>197.839996</td>\n      <td>0.558</td>\n      <td>36.610001</td>\n      <td>4.20</td>\n      <td>NaN</td>\n      <td>NaN</td>\n      <td>NaN</td>\n      <td>NaN</td>\n      <td>NaN</td>\n      <td>3.270</td>\n      <td>13.3200</td>\n    </tr>\n    <tr>\n      <th>2020-12-30</th>\n      <td>1.190000</td>\n      <td>10.47</td>\n      <td>11.22</td>\n      <td>NaN</td>\n      <td>16.150000</td>\n      <td>2.100000</td>\n      <td>8.60</td>\n      <td>66.489998</td>\n      <td>133.720001</td>\n      <td>54.610001</td>\n      <td>89.699997</td>\n      <td>123.879997</td>\n      <td>37.959999</td>\n      <td>41.099998</td>\n      <td>22.450001</td>\n      <td>...</td>\n      <td>353.399994</td>\n      <td>9.72</td>\n      <td>10.41</td>\n      <td>55.700001</td>\n      <td>201.309998</td>\n      <td>0.564</td>\n      <td>36.619999</td>\n      <td>4.44</td>\n      <td>NaN</td>\n      <td>NaN</td>\n      <td>NaN</td>\n      <td>NaN</td>\n      <td>NaN</td>\n      <td>3.320</td>\n      <td>14.0600</td>\n    </tr>\n    <tr>\n      <th>2020-12-31</th>\n      <td>1.190000</td>\n      <td>10.63</td>\n      <td>11.24</td>\n      <td>NaN</td>\n      <td>15.770000</td>\n      <td>2.060000</td>\n      <td>8.51</td>\n      <td>66.629997</td>\n      <td>132.690002</td>\n      <td>54.540001</td>\n      <td>89.610001</td>\n      <td>122.529999</td>\n      <td>38.070000</td>\n      <td>40.240002</td>\n      <td>21.549999</td>\n      <td>...</td>\n      <td>337.320007</td>\n      <td>9.87</td>\n      <td>10.52</td>\n      <td>51.939999</td>\n      <td>199.710007</td>\n      <td>0.527</td>\n      <td>36.779999</td>\n      <td>4.74</td>\n      <td>NaN</td>\n      <td>NaN</td>\n      <td>NaN</td>\n      <td>NaN</td>\n      <td>8.99</td>\n      <td>3.300</td>\n      <td>13.4600</td>\n    </tr>\n    <tr>\n      <th>2021-01-04</th>\n      <td>1.180000</td>\n      <td>10.66</td>\n      <td>11.30</td>\n      <td>NaN</td>\n      <td>15.130000</td>\n      <td>2.140000</td>\n      <td>8.76</td>\n      <td>64.709999</td>\n      <td>129.410004</td>\n      <td>55.389999</td>\n      <td>90.430000</td>\n      <td>116.849998</td>\n      <td>38.099998</td>\n      <td>39.099998</td>\n      <td>20.469999</td>\n      <td>...</td>\n      <td>359.980011</td>\n      <td>9.77</td>\n      <td>10.58</td>\n      <td>52.720001</td>\n      <td>196.089996</td>\n      <td>0.582</td>\n      <td>35.700001</td>\n      <td>4.61</td>\n      <td>NaN</td>\n      <td>NaN</td>\n      <td>22.0</td>\n      <td>NaN</td>\n      <td>NaN</td>\n      <td>3.325</td>\n      <td>13.8800</td>\n    </tr>\n    <tr>\n      <th>2021-01-05</th>\n      <td>1.230000</td>\n      <td>10.56</td>\n      <td>11.29</td>\n      <td>2.12</td>\n      <td>15.430000</td>\n      <td>2.600000</td>\n      <td>8.91</td>\n      <td>65.440002</td>\n      <td>131.009995</td>\n      <td>53.790001</td>\n      <td>92.650002</td>\n      <td>122.300003</td>\n      <td>39.110001</td>\n      <td>38.509998</td>\n      <td>20.290001</td>\n      <td>...</td>\n      <td>360.829987</td>\n      <td>9.84</td>\n      <td>10.59</td>\n      <td>52.119999</td>\n      <td>193.479996</td>\n      <td>0.805</td>\n      <td>36.080002</td>\n      <td>5.13</td>\n      <td>NaN</td>\n      <td>10.02</td>\n      <td>NaN</td>\n      <td>NaN</td>\n      <td>NaN</td>\n      <td>3.390</td>\n      <td>13.5100</td>\n    </tr>\n  </tbody>\n</table>\n<p>2517 rows × 3949 columns</p>\n</div>"
     },
     "metadata": {},
     "execution_count": 45
    }
   ],
   "source": [
    "fdd = read_pickle(p3 + 'raw/nasdaq_10y_1d.pkl')\n",
    "fdd"
   ]
  },
  {
   "cell_type": "code",
   "execution_count": 39,
   "metadata": {},
   "outputs": [],
   "source": [
    "lst = read_pickle('/home/gordon/work/Where-To-Put-Your-Money-In-Hard-Times/data/tickers/sp500_ticker_list.pkl')"
   ]
  },
  {
   "cell_type": "code",
   "execution_count": 42,
   "metadata": {},
   "outputs": [
    {
     "output_type": "stream",
     "name": "stdout",
     "text": [
      "[*********************100%***********************]  505 of 505 completed\n"
     ]
    },
    {
     "output_type": "execute_result",
     "data": {
      "text/plain": [
       "                     A        AAL         AAP        AAPL        ABBV  \\\n",
       "Date                                                                    \n",
       "2011-01-07   27.319567  10.747252   60.085354   10.355506         NaN   \n",
       "2011-01-10   27.713411  10.813245   60.532005   10.550530         NaN   \n",
       "2011-01-11   28.186016  10.341875   60.172733   10.525573         NaN   \n",
       "2011-01-12   28.310732  10.257028   60.978668   10.611223         NaN   \n",
       "2011-01-13   28.205709  10.266455   61.163158   10.650039         NaN   \n",
       "...                ...        ...         ...         ...         ...   \n",
       "2020-12-30  117.197800  16.150000  157.660004  133.720001  105.269997   \n",
       "2020-12-31  118.295998  15.770000  157.509995  132.690002  107.150002   \n",
       "2021-01-04  118.639999  15.130000  157.339996  129.410004  105.410004   \n",
       "2021-01-05  119.610001  15.430000  157.169998  131.009995  106.500000   \n",
       "2021-01-06  122.889999  15.520000  166.250000  126.599998  105.580002   \n",
       "\n",
       "                   ABC        ABMD         ABT         ACN        ADBE  \\\n",
       "Date                                                                     \n",
       "2011-01-07   29.871372    9.890000   18.505201   39.337559   32.040001   \n",
       "2011-01-10   29.700321   10.020000   18.340698   38.989086   32.959999   \n",
       "2011-01-11   29.991089   10.090000   18.302435   39.523964   32.980000   \n",
       "2011-01-12   29.811502   10.240000   18.371943   40.431625   33.570000   \n",
       "2011-01-13   30.256197   10.290000   18.290859   40.415417   33.380001   \n",
       "...                ...         ...         ...         ...         ...   \n",
       "2020-12-30   96.959999  323.920013  108.440002  257.540009  497.450012   \n",
       "2020-12-31   97.760002  324.200012  109.489998  261.209991  500.119995   \n",
       "2021-01-04   96.500000  316.730011  109.110001  256.459991  485.339996   \n",
       "2021-01-05   97.760002  322.600006  110.459999  257.920013  485.690002   \n",
       "2021-01-06  106.169998  321.609985  110.230003  260.739990  466.309998   \n",
       "\n",
       "                   ADI        ADM         ADP        ADSK        AEE  ...  \\\n",
       "Date                                                                  ...   \n",
       "2011-01-07   29.174738  24.352690   33.125191   40.759998  19.384708  ...   \n",
       "2011-01-10   29.260115  24.459394   33.138954   40.869999  19.172291  ...   \n",
       "2011-01-11   29.516245  24.550865   33.290440   40.799999  19.405262  ...   \n",
       "2011-01-12   29.524019  24.817638   33.724201   40.529999  19.473785  ...   \n",
       "2011-01-13   29.376537  25.328325   33.400604   41.080002  19.281925  ...   \n",
       "...                ...        ...         ...         ...        ...  ...   \n",
       "2020-12-30  146.179993  49.910000  173.809998  299.410004  76.970001  ...   \n",
       "2020-12-31  147.729996  50.410000  176.199997  305.339996  78.059998  ...   \n",
       "2021-01-04  146.020004  49.869999  168.960007  296.839996  76.129997  ...   \n",
       "2021-01-05  148.630005  50.840000  168.490005  301.700012  75.760002  ...   \n",
       "2021-01-06  149.300003  52.900002  167.899994  302.869995  76.389999  ...   \n",
       "\n",
       "                   WST         WU         WY        WYNN        XEL  \\\n",
       "Date                                                                  \n",
       "2011-01-07   18.668112  13.947884  14.578796   84.570549  16.623915   \n",
       "2011-01-10   18.686420  13.824318  14.741797   84.549171  16.518740   \n",
       "2011-01-11   18.750507  13.984222  14.975688   83.402397  16.462654   \n",
       "2011-01-12   18.494162  13.918812  15.273355   83.181564  16.504717   \n",
       "2011-01-13   18.539932  13.889738  15.124519   83.138847  16.441614   \n",
       "...                ...        ...        ...         ...        ...   \n",
       "2020-12-30  279.940002  21.780001  33.650002  113.400002  65.650002   \n",
       "2020-12-31  283.309998  21.940001  33.529999  112.830002  66.669998   \n",
       "2021-01-04  285.570007  21.770000  32.810001  106.900002  65.660004   \n",
       "2021-01-05  291.019989  22.100000  33.119999  110.190002  65.019997   \n",
       "2021-01-06  294.140015  23.120001  33.290001  110.849998  66.459999   \n",
       "\n",
       "                  XLNX        XOM       XRAY        XRX         XYL  \\\n",
       "Date                                                                  \n",
       "2011-01-07   24.010040  52.035751  32.503872  22.016569         NaN   \n",
       "2011-01-10   24.202316  51.719078  32.841091  22.230890         NaN   \n",
       "2011-01-11   24.442652  52.104588  33.084625  22.367271         NaN   \n",
       "2011-01-12   24.827200  52.717278  33.983864  22.464691         NaN   \n",
       "2011-01-13   24.747084  52.806759  34.002613  22.055532         NaN   \n",
       "...                ...        ...        ...        ...         ...   \n",
       "2020-12-30  142.100006  41.599998  51.459999  22.889999  100.779999   \n",
       "2020-12-31  141.770004  41.220001  52.360001  23.190001  101.790001   \n",
       "2021-01-04  142.429993  41.500000  53.750000  22.459999   99.690002   \n",
       "2021-01-05  144.229996  43.500000  55.290001  22.850000   99.570000   \n",
       "2021-01-06  141.220001  44.610001  57.959999  23.200001  103.769997   \n",
       "\n",
       "                   YUM         ZBH        ZBRA       ZION         ZTS  \n",
       "Date                                                                   \n",
       "2011-01-07   29.304129   48.525909   37.599998  21.653538         NaN  \n",
       "2011-01-10   29.345552   48.904221   37.709999  21.265766         NaN  \n",
       "2011-01-11   29.156197   50.648159   38.509998  21.424400         NaN  \n",
       "2011-01-12   29.233509   51.395580   38.549999  21.168823         NaN  \n",
       "2011-01-13   29.084814   51.155663   38.790001  20.974939         NaN  \n",
       "...                ...         ...         ...        ...         ...  \n",
       "2020-12-30  109.510002  152.220001  383.750000  43.220001  164.270004  \n",
       "2020-12-31  108.559998  154.089996  384.329987  43.439999  165.500000  \n",
       "2021-01-04  105.820000  153.160004  378.130005  42.930000  163.589996  \n",
       "2021-01-05  105.830002  155.809998  380.570007  43.610001  164.729996  \n",
       "2021-01-06  106.410004  160.250000  394.820007  48.509998  167.149994  \n",
       "\n",
       "[2517 rows x 505 columns]"
      ],
      "text/html": "<div>\n<style scoped>\n    .dataframe tbody tr th:only-of-type {\n        vertical-align: middle;\n    }\n\n    .dataframe tbody tr th {\n        vertical-align: top;\n    }\n\n    .dataframe thead th {\n        text-align: right;\n    }\n</style>\n<table border=\"1\" class=\"dataframe\">\n  <thead>\n    <tr style=\"text-align: right;\">\n      <th></th>\n      <th>A</th>\n      <th>AAL</th>\n      <th>AAP</th>\n      <th>AAPL</th>\n      <th>ABBV</th>\n      <th>ABC</th>\n      <th>ABMD</th>\n      <th>ABT</th>\n      <th>ACN</th>\n      <th>ADBE</th>\n      <th>ADI</th>\n      <th>ADM</th>\n      <th>ADP</th>\n      <th>ADSK</th>\n      <th>AEE</th>\n      <th>...</th>\n      <th>WST</th>\n      <th>WU</th>\n      <th>WY</th>\n      <th>WYNN</th>\n      <th>XEL</th>\n      <th>XLNX</th>\n      <th>XOM</th>\n      <th>XRAY</th>\n      <th>XRX</th>\n      <th>XYL</th>\n      <th>YUM</th>\n      <th>ZBH</th>\n      <th>ZBRA</th>\n      <th>ZION</th>\n      <th>ZTS</th>\n    </tr>\n    <tr>\n      <th>Date</th>\n      <th></th>\n      <th></th>\n      <th></th>\n      <th></th>\n      <th></th>\n      <th></th>\n      <th></th>\n      <th></th>\n      <th></th>\n      <th></th>\n      <th></th>\n      <th></th>\n      <th></th>\n      <th></th>\n      <th></th>\n      <th></th>\n      <th></th>\n      <th></th>\n      <th></th>\n      <th></th>\n      <th></th>\n      <th></th>\n      <th></th>\n      <th></th>\n      <th></th>\n      <th></th>\n      <th></th>\n      <th></th>\n      <th></th>\n      <th></th>\n      <th></th>\n    </tr>\n  </thead>\n  <tbody>\n    <tr>\n      <th>2011-01-07</th>\n      <td>27.319567</td>\n      <td>10.747252</td>\n      <td>60.085354</td>\n      <td>10.355506</td>\n      <td>NaN</td>\n      <td>29.871372</td>\n      <td>9.890000</td>\n      <td>18.505201</td>\n      <td>39.337559</td>\n      <td>32.040001</td>\n      <td>29.174738</td>\n      <td>24.352690</td>\n      <td>33.125191</td>\n      <td>40.759998</td>\n      <td>19.384708</td>\n      <td>...</td>\n      <td>18.668112</td>\n      <td>13.947884</td>\n      <td>14.578796</td>\n      <td>84.570549</td>\n      <td>16.623915</td>\n      <td>24.010040</td>\n      <td>52.035751</td>\n      <td>32.503872</td>\n      <td>22.016569</td>\n      <td>NaN</td>\n      <td>29.304129</td>\n      <td>48.525909</td>\n      <td>37.599998</td>\n      <td>21.653538</td>\n      <td>NaN</td>\n    </tr>\n    <tr>\n      <th>2011-01-10</th>\n      <td>27.713411</td>\n      <td>10.813245</td>\n      <td>60.532005</td>\n      <td>10.550530</td>\n      <td>NaN</td>\n      <td>29.700321</td>\n      <td>10.020000</td>\n      <td>18.340698</td>\n      <td>38.989086</td>\n      <td>32.959999</td>\n      <td>29.260115</td>\n      <td>24.459394</td>\n      <td>33.138954</td>\n      <td>40.869999</td>\n      <td>19.172291</td>\n      <td>...</td>\n      <td>18.686420</td>\n      <td>13.824318</td>\n      <td>14.741797</td>\n      <td>84.549171</td>\n      <td>16.518740</td>\n      <td>24.202316</td>\n      <td>51.719078</td>\n      <td>32.841091</td>\n      <td>22.230890</td>\n      <td>NaN</td>\n      <td>29.345552</td>\n      <td>48.904221</td>\n      <td>37.709999</td>\n      <td>21.265766</td>\n      <td>NaN</td>\n    </tr>\n    <tr>\n      <th>2011-01-11</th>\n      <td>28.186016</td>\n      <td>10.341875</td>\n      <td>60.172733</td>\n      <td>10.525573</td>\n      <td>NaN</td>\n      <td>29.991089</td>\n      <td>10.090000</td>\n      <td>18.302435</td>\n      <td>39.523964</td>\n      <td>32.980000</td>\n      <td>29.516245</td>\n      <td>24.550865</td>\n      <td>33.290440</td>\n      <td>40.799999</td>\n      <td>19.405262</td>\n      <td>...</td>\n      <td>18.750507</td>\n      <td>13.984222</td>\n      <td>14.975688</td>\n      <td>83.402397</td>\n      <td>16.462654</td>\n      <td>24.442652</td>\n      <td>52.104588</td>\n      <td>33.084625</td>\n      <td>22.367271</td>\n      <td>NaN</td>\n      <td>29.156197</td>\n      <td>50.648159</td>\n      <td>38.509998</td>\n      <td>21.424400</td>\n      <td>NaN</td>\n    </tr>\n    <tr>\n      <th>2011-01-12</th>\n      <td>28.310732</td>\n      <td>10.257028</td>\n      <td>60.978668</td>\n      <td>10.611223</td>\n      <td>NaN</td>\n      <td>29.811502</td>\n      <td>10.240000</td>\n      <td>18.371943</td>\n      <td>40.431625</td>\n      <td>33.570000</td>\n      <td>29.524019</td>\n      <td>24.817638</td>\n      <td>33.724201</td>\n      <td>40.529999</td>\n      <td>19.473785</td>\n      <td>...</td>\n      <td>18.494162</td>\n      <td>13.918812</td>\n      <td>15.273355</td>\n      <td>83.181564</td>\n      <td>16.504717</td>\n      <td>24.827200</td>\n      <td>52.717278</td>\n      <td>33.983864</td>\n      <td>22.464691</td>\n      <td>NaN</td>\n      <td>29.233509</td>\n      <td>51.395580</td>\n      <td>38.549999</td>\n      <td>21.168823</td>\n      <td>NaN</td>\n    </tr>\n    <tr>\n      <th>2011-01-13</th>\n      <td>28.205709</td>\n      <td>10.266455</td>\n      <td>61.163158</td>\n      <td>10.650039</td>\n      <td>NaN</td>\n      <td>30.256197</td>\n      <td>10.290000</td>\n      <td>18.290859</td>\n      <td>40.415417</td>\n      <td>33.380001</td>\n      <td>29.376537</td>\n      <td>25.328325</td>\n      <td>33.400604</td>\n      <td>41.080002</td>\n      <td>19.281925</td>\n      <td>...</td>\n      <td>18.539932</td>\n      <td>13.889738</td>\n      <td>15.124519</td>\n      <td>83.138847</td>\n      <td>16.441614</td>\n      <td>24.747084</td>\n      <td>52.806759</td>\n      <td>34.002613</td>\n      <td>22.055532</td>\n      <td>NaN</td>\n      <td>29.084814</td>\n      <td>51.155663</td>\n      <td>38.790001</td>\n      <td>20.974939</td>\n      <td>NaN</td>\n    </tr>\n    <tr>\n      <th>...</th>\n      <td>...</td>\n      <td>...</td>\n      <td>...</td>\n      <td>...</td>\n      <td>...</td>\n      <td>...</td>\n      <td>...</td>\n      <td>...</td>\n      <td>...</td>\n      <td>...</td>\n      <td>...</td>\n      <td>...</td>\n      <td>...</td>\n      <td>...</td>\n      <td>...</td>\n      <td>...</td>\n      <td>...</td>\n      <td>...</td>\n      <td>...</td>\n      <td>...</td>\n      <td>...</td>\n      <td>...</td>\n      <td>...</td>\n      <td>...</td>\n      <td>...</td>\n      <td>...</td>\n      <td>...</td>\n      <td>...</td>\n      <td>...</td>\n      <td>...</td>\n      <td>...</td>\n    </tr>\n    <tr>\n      <th>2020-12-30</th>\n      <td>117.197800</td>\n      <td>16.150000</td>\n      <td>157.660004</td>\n      <td>133.720001</td>\n      <td>105.269997</td>\n      <td>96.959999</td>\n      <td>323.920013</td>\n      <td>108.440002</td>\n      <td>257.540009</td>\n      <td>497.450012</td>\n      <td>146.179993</td>\n      <td>49.910000</td>\n      <td>173.809998</td>\n      <td>299.410004</td>\n      <td>76.970001</td>\n      <td>...</td>\n      <td>279.940002</td>\n      <td>21.780001</td>\n      <td>33.650002</td>\n      <td>113.400002</td>\n      <td>65.650002</td>\n      <td>142.100006</td>\n      <td>41.599998</td>\n      <td>51.459999</td>\n      <td>22.889999</td>\n      <td>100.779999</td>\n      <td>109.510002</td>\n      <td>152.220001</td>\n      <td>383.750000</td>\n      <td>43.220001</td>\n      <td>164.270004</td>\n    </tr>\n    <tr>\n      <th>2020-12-31</th>\n      <td>118.295998</td>\n      <td>15.770000</td>\n      <td>157.509995</td>\n      <td>132.690002</td>\n      <td>107.150002</td>\n      <td>97.760002</td>\n      <td>324.200012</td>\n      <td>109.489998</td>\n      <td>261.209991</td>\n      <td>500.119995</td>\n      <td>147.729996</td>\n      <td>50.410000</td>\n      <td>176.199997</td>\n      <td>305.339996</td>\n      <td>78.059998</td>\n      <td>...</td>\n      <td>283.309998</td>\n      <td>21.940001</td>\n      <td>33.529999</td>\n      <td>112.830002</td>\n      <td>66.669998</td>\n      <td>141.770004</td>\n      <td>41.220001</td>\n      <td>52.360001</td>\n      <td>23.190001</td>\n      <td>101.790001</td>\n      <td>108.559998</td>\n      <td>154.089996</td>\n      <td>384.329987</td>\n      <td>43.439999</td>\n      <td>165.500000</td>\n    </tr>\n    <tr>\n      <th>2021-01-04</th>\n      <td>118.639999</td>\n      <td>15.130000</td>\n      <td>157.339996</td>\n      <td>129.410004</td>\n      <td>105.410004</td>\n      <td>96.500000</td>\n      <td>316.730011</td>\n      <td>109.110001</td>\n      <td>256.459991</td>\n      <td>485.339996</td>\n      <td>146.020004</td>\n      <td>49.869999</td>\n      <td>168.960007</td>\n      <td>296.839996</td>\n      <td>76.129997</td>\n      <td>...</td>\n      <td>285.570007</td>\n      <td>21.770000</td>\n      <td>32.810001</td>\n      <td>106.900002</td>\n      <td>65.660004</td>\n      <td>142.429993</td>\n      <td>41.500000</td>\n      <td>53.750000</td>\n      <td>22.459999</td>\n      <td>99.690002</td>\n      <td>105.820000</td>\n      <td>153.160004</td>\n      <td>378.130005</td>\n      <td>42.930000</td>\n      <td>163.589996</td>\n    </tr>\n    <tr>\n      <th>2021-01-05</th>\n      <td>119.610001</td>\n      <td>15.430000</td>\n      <td>157.169998</td>\n      <td>131.009995</td>\n      <td>106.500000</td>\n      <td>97.760002</td>\n      <td>322.600006</td>\n      <td>110.459999</td>\n      <td>257.920013</td>\n      <td>485.690002</td>\n      <td>148.630005</td>\n      <td>50.840000</td>\n      <td>168.490005</td>\n      <td>301.700012</td>\n      <td>75.760002</td>\n      <td>...</td>\n      <td>291.019989</td>\n      <td>22.100000</td>\n      <td>33.119999</td>\n      <td>110.190002</td>\n      <td>65.019997</td>\n      <td>144.229996</td>\n      <td>43.500000</td>\n      <td>55.290001</td>\n      <td>22.850000</td>\n      <td>99.570000</td>\n      <td>105.830002</td>\n      <td>155.809998</td>\n      <td>380.570007</td>\n      <td>43.610001</td>\n      <td>164.729996</td>\n    </tr>\n    <tr>\n      <th>2021-01-06</th>\n      <td>122.889999</td>\n      <td>15.520000</td>\n      <td>166.250000</td>\n      <td>126.599998</td>\n      <td>105.580002</td>\n      <td>106.169998</td>\n      <td>321.609985</td>\n      <td>110.230003</td>\n      <td>260.739990</td>\n      <td>466.309998</td>\n      <td>149.300003</td>\n      <td>52.900002</td>\n      <td>167.899994</td>\n      <td>302.869995</td>\n      <td>76.389999</td>\n      <td>...</td>\n      <td>294.140015</td>\n      <td>23.120001</td>\n      <td>33.290001</td>\n      <td>110.849998</td>\n      <td>66.459999</td>\n      <td>141.220001</td>\n      <td>44.610001</td>\n      <td>57.959999</td>\n      <td>23.200001</td>\n      <td>103.769997</td>\n      <td>106.410004</td>\n      <td>160.250000</td>\n      <td>394.820007</td>\n      <td>48.509998</td>\n      <td>167.149994</td>\n    </tr>\n  </tbody>\n</table>\n<p>2517 rows × 505 columns</p>\n</div>"
     },
     "metadata": {},
     "execution_count": 42
    }
   ],
   "source": [
    "z = yf.download(lst, period='10y', interval='1d')['Adj Close']\n",
    "z"
   ]
  },
  {
   "cell_type": "code",
   "execution_count": 43,
   "metadata": {},
   "outputs": [],
   "source": [
    "z.to_pickle('/home/gordon/work/Where-To-Put-Your-Money-In-Hard-Times/data/raw/sp500_10y_1d.pkl')"
   ]
  },
  {
   "cell_type": "code",
   "execution_count": null,
   "metadata": {},
   "outputs": [],
   "source": []
  }
 ]
}