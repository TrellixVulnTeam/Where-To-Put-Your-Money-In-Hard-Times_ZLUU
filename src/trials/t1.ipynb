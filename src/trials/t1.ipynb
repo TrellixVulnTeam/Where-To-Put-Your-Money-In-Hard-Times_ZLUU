{
 "metadata": {
  "language_info": {
   "codemirror_mode": {
    "name": "ipython",
    "version": 3
   },
   "file_extension": ".py",
   "mimetype": "text/x-python",
   "name": "python",
   "nbconvert_exporter": "python",
   "pygments_lexer": "ipython3",
   "version": "3.7.7-final"
  },
  "orig_nbformat": 2,
  "kernelspec": {
   "name": "python3",
   "display_name": "Python 3",
   "language": "python"
  }
 },
 "nbformat": 4,
 "nbformat_minor": 2,
 "cells": [
  {
   "cell_type": "code",
   "execution_count": 2,
   "metadata": {},
   "outputs": [
    {
     "output_type": "execute_result",
     "data": {
      "text/plain": [
       "3949"
      ]
     },
     "metadata": {},
     "execution_count": 2
    }
   ],
   "source": [
    "from pandas.io.pickle import read_pickle\n",
    "\n",
    "df = read_pickle('/home/gordon/work/Where-To-Put-Your-Money-In-Hard-Times/data/tickers/nasdaq_ticker_list.pkl')\n",
    "len(df)"
   ]
  },
  {
   "cell_type": "code",
   "execution_count": 3,
   "metadata": {},
   "outputs": [
    {
     "output_type": "execute_result",
     "data": {
      "text/plain": [
       "                AACG   AACQ  AACQU  AACQW        AAL      AAME  AAOI  \\\n",
       "Date                                                                   \n",
       "2011-01-05       NaN    NaN    NaN    NaN        NaN       NaN   NaN   \n",
       "2011-01-06       NaN    NaN    NaN    NaN        NaN       NaN   NaN   \n",
       "2011-01-07  0.039149    NaN    NaN    NaN  10.747252  1.903669   NaN   \n",
       "2011-01-10  0.038945    NaN    NaN    NaN  10.813245  1.903669   NaN   \n",
       "2011-01-11  0.038640    NaN    NaN    NaN  10.341875  1.829741   NaN   \n",
       "...              ...    ...    ...    ...        ...       ...   ...   \n",
       "2020-12-29  1.190000  10.54  11.32    NaN  15.860000  2.100000  8.80   \n",
       "2020-12-30  1.190000  10.47  11.22    NaN  16.150000  2.100000  8.60   \n",
       "2020-12-31  1.190000  10.63  11.24    NaN  15.770000  2.060000  8.51   \n",
       "2021-01-04  1.180000  10.66  11.30    NaN  15.130000  2.140000  8.76   \n",
       "2021-01-05  1.230000  10.56  11.29   2.12  15.430000  2.600000  8.91   \n",
       "\n",
       "                 AAON        AAPL       AAWW       AAXJ        AAXN  \\\n",
       "Date                                                                  \n",
       "2011-01-05        NaN         NaN        NaN        NaN         NaN   \n",
       "2011-01-06        NaN   10.281874        NaN        NaN         NaN   \n",
       "2011-01-07   7.247061   10.355506  52.889999  52.952225    4.790000   \n",
       "2011-01-10   7.303931   10.550530  51.950001  52.197300    4.780000   \n",
       "2011-01-11   7.358095   10.525573  51.970001  52.595509    4.870000   \n",
       "...               ...         ...        ...        ...         ...   \n",
       "2020-12-29  66.720001  134.869995  54.000000  88.160004  123.330002   \n",
       "2020-12-30  66.489998  133.720001  54.610001  89.699997  123.879997   \n",
       "2020-12-31  66.629997  132.690002  54.540001  89.610001  122.529999   \n",
       "2021-01-04  64.709999  129.410004  55.389999  90.430000  116.849998   \n",
       "2021-01-05  65.440002  131.009995  53.790001  92.650002  122.300003   \n",
       "\n",
       "                 ABCB       ABCL       ABCM  ...          ZM  ZNGA  ZNTEU  \\\n",
       "Date                                         ...                            \n",
       "2011-01-05        NaN        NaN        NaN  ...         NaN   NaN    NaN   \n",
       "2011-01-06  10.276255        NaN        NaN  ...         NaN   NaN    NaN   \n",
       "2011-01-07  10.165161        NaN        NaN  ...         NaN   NaN    NaN   \n",
       "2011-01-10  10.072579        NaN        NaN  ...         NaN   NaN    NaN   \n",
       "2011-01-11  10.026293        NaN        NaN  ...         NaN   NaN    NaN   \n",
       "...               ...        ...        ...  ...         ...   ...    ...   \n",
       "2020-12-29  37.250004  39.000000  20.299999  ...  353.750000  9.61  10.45   \n",
       "2020-12-30  37.959999  41.099998  22.450001  ...  353.399994  9.72  10.41   \n",
       "2020-12-31  38.070000  40.240002  21.549999  ...  337.320007  9.87  10.52   \n",
       "2021-01-04  38.099998  39.099998  20.469999  ...  359.980011  9.77  10.58   \n",
       "2021-01-05  39.110001  38.509998  20.290001  ...  360.829987  9.84  10.59   \n",
       "\n",
       "                 ZNTL          ZS   ZSAN       ZUMZ   ZVO  ZVZZC  ZVZZT  \\\n",
       "Date                                                                      \n",
       "2011-01-05        NaN         NaN    NaN        NaN   NaN    NaN    NaN   \n",
       "2011-01-06        NaN         NaN    NaN        NaN   NaN    NaN    NaN   \n",
       "2011-01-07        NaN         NaN    NaN  25.639999   NaN    NaN    NaN   \n",
       "2011-01-10        NaN         NaN    NaN  25.600000   NaN    NaN    NaN   \n",
       "2011-01-11        NaN         NaN    NaN  24.510000   NaN    NaN    NaN   \n",
       "...               ...         ...    ...        ...   ...    ...    ...   \n",
       "2020-12-29  54.540001  197.839996  0.558  36.610001  4.20    NaN    NaN   \n",
       "2020-12-30  55.700001  201.309998  0.564  36.619999  4.44    NaN    NaN   \n",
       "2020-12-31  51.939999  199.710007  0.527  36.779999  4.74    NaN    NaN   \n",
       "2021-01-04  52.720001  196.089996  0.582  35.700001  4.61    NaN    NaN   \n",
       "2021-01-05  52.119999  193.479996  0.805  36.080002  5.13    NaN  10.02   \n",
       "\n",
       "            ZWZZT  ZXYZ.A  ZXZZT   ZYNE     ZYXI  \n",
       "Date                                              \n",
       "2011-01-05    NaN     NaN    NaN    NaN      NaN  \n",
       "2011-01-06    NaN     NaN    NaN    NaN      NaN  \n",
       "2011-01-07    NaN     NaN    NaN    NaN   0.3482  \n",
       "2011-01-10    NaN     NaN    NaN    NaN   0.3482  \n",
       "2011-01-11    NaN     NaN    NaN    NaN   0.3482  \n",
       "...           ...     ...    ...    ...      ...  \n",
       "2020-12-29    NaN     NaN    NaN  3.270  13.3200  \n",
       "2020-12-30    NaN     NaN    NaN  3.320  14.0600  \n",
       "2020-12-31    NaN     NaN   8.99  3.300  13.4600  \n",
       "2021-01-04   22.0     NaN    NaN  3.325  13.8800  \n",
       "2021-01-05    NaN     NaN    NaN  3.390  13.5100  \n",
       "\n",
       "[2517 rows x 3949 columns]"
      ],
      "text/html": "<div>\n<style scoped>\n    .dataframe tbody tr th:only-of-type {\n        vertical-align: middle;\n    }\n\n    .dataframe tbody tr th {\n        vertical-align: top;\n    }\n\n    .dataframe thead th {\n        text-align: right;\n    }\n</style>\n<table border=\"1\" class=\"dataframe\">\n  <thead>\n    <tr style=\"text-align: right;\">\n      <th></th>\n      <th>AACG</th>\n      <th>AACQ</th>\n      <th>AACQU</th>\n      <th>AACQW</th>\n      <th>AAL</th>\n      <th>AAME</th>\n      <th>AAOI</th>\n      <th>AAON</th>\n      <th>AAPL</th>\n      <th>AAWW</th>\n      <th>AAXJ</th>\n      <th>AAXN</th>\n      <th>ABCB</th>\n      <th>ABCL</th>\n      <th>ABCM</th>\n      <th>...</th>\n      <th>ZM</th>\n      <th>ZNGA</th>\n      <th>ZNTEU</th>\n      <th>ZNTL</th>\n      <th>ZS</th>\n      <th>ZSAN</th>\n      <th>ZUMZ</th>\n      <th>ZVO</th>\n      <th>ZVZZC</th>\n      <th>ZVZZT</th>\n      <th>ZWZZT</th>\n      <th>ZXYZ.A</th>\n      <th>ZXZZT</th>\n      <th>ZYNE</th>\n      <th>ZYXI</th>\n    </tr>\n    <tr>\n      <th>Date</th>\n      <th></th>\n      <th></th>\n      <th></th>\n      <th></th>\n      <th></th>\n      <th></th>\n      <th></th>\n      <th></th>\n      <th></th>\n      <th></th>\n      <th></th>\n      <th></th>\n      <th></th>\n      <th></th>\n      <th></th>\n      <th></th>\n      <th></th>\n      <th></th>\n      <th></th>\n      <th></th>\n      <th></th>\n      <th></th>\n      <th></th>\n      <th></th>\n      <th></th>\n      <th></th>\n      <th></th>\n      <th></th>\n      <th></th>\n      <th></th>\n      <th></th>\n    </tr>\n  </thead>\n  <tbody>\n    <tr>\n      <th>2011-01-05</th>\n      <td>NaN</td>\n      <td>NaN</td>\n      <td>NaN</td>\n      <td>NaN</td>\n      <td>NaN</td>\n      <td>NaN</td>\n      <td>NaN</td>\n      <td>NaN</td>\n      <td>NaN</td>\n      <td>NaN</td>\n      <td>NaN</td>\n      <td>NaN</td>\n      <td>NaN</td>\n      <td>NaN</td>\n      <td>NaN</td>\n      <td>...</td>\n      <td>NaN</td>\n      <td>NaN</td>\n      <td>NaN</td>\n      <td>NaN</td>\n      <td>NaN</td>\n      <td>NaN</td>\n      <td>NaN</td>\n      <td>NaN</td>\n      <td>NaN</td>\n      <td>NaN</td>\n      <td>NaN</td>\n      <td>NaN</td>\n      <td>NaN</td>\n      <td>NaN</td>\n      <td>NaN</td>\n    </tr>\n    <tr>\n      <th>2011-01-06</th>\n      <td>NaN</td>\n      <td>NaN</td>\n      <td>NaN</td>\n      <td>NaN</td>\n      <td>NaN</td>\n      <td>NaN</td>\n      <td>NaN</td>\n      <td>NaN</td>\n      <td>10.281874</td>\n      <td>NaN</td>\n      <td>NaN</td>\n      <td>NaN</td>\n      <td>10.276255</td>\n      <td>NaN</td>\n      <td>NaN</td>\n      <td>...</td>\n      <td>NaN</td>\n      <td>NaN</td>\n      <td>NaN</td>\n      <td>NaN</td>\n      <td>NaN</td>\n      <td>NaN</td>\n      <td>NaN</td>\n      <td>NaN</td>\n      <td>NaN</td>\n      <td>NaN</td>\n      <td>NaN</td>\n      <td>NaN</td>\n      <td>NaN</td>\n      <td>NaN</td>\n      <td>NaN</td>\n    </tr>\n    <tr>\n      <th>2011-01-07</th>\n      <td>0.039149</td>\n      <td>NaN</td>\n      <td>NaN</td>\n      <td>NaN</td>\n      <td>10.747252</td>\n      <td>1.903669</td>\n      <td>NaN</td>\n      <td>7.247061</td>\n      <td>10.355506</td>\n      <td>52.889999</td>\n      <td>52.952225</td>\n      <td>4.790000</td>\n      <td>10.165161</td>\n      <td>NaN</td>\n      <td>NaN</td>\n      <td>...</td>\n      <td>NaN</td>\n      <td>NaN</td>\n      <td>NaN</td>\n      <td>NaN</td>\n      <td>NaN</td>\n      <td>NaN</td>\n      <td>25.639999</td>\n      <td>NaN</td>\n      <td>NaN</td>\n      <td>NaN</td>\n      <td>NaN</td>\n      <td>NaN</td>\n      <td>NaN</td>\n      <td>NaN</td>\n      <td>0.3482</td>\n    </tr>\n    <tr>\n      <th>2011-01-10</th>\n      <td>0.038945</td>\n      <td>NaN</td>\n      <td>NaN</td>\n      <td>NaN</td>\n      <td>10.813245</td>\n      <td>1.903669</td>\n      <td>NaN</td>\n      <td>7.303931</td>\n      <td>10.550530</td>\n      <td>51.950001</td>\n      <td>52.197300</td>\n      <td>4.780000</td>\n      <td>10.072579</td>\n      <td>NaN</td>\n      <td>NaN</td>\n      <td>...</td>\n      <td>NaN</td>\n      <td>NaN</td>\n      <td>NaN</td>\n      <td>NaN</td>\n      <td>NaN</td>\n      <td>NaN</td>\n      <td>25.600000</td>\n      <td>NaN</td>\n      <td>NaN</td>\n      <td>NaN</td>\n      <td>NaN</td>\n      <td>NaN</td>\n      <td>NaN</td>\n      <td>NaN</td>\n      <td>0.3482</td>\n    </tr>\n    <tr>\n      <th>2011-01-11</th>\n      <td>0.038640</td>\n      <td>NaN</td>\n      <td>NaN</td>\n      <td>NaN</td>\n      <td>10.341875</td>\n      <td>1.829741</td>\n      <td>NaN</td>\n      <td>7.358095</td>\n      <td>10.525573</td>\n      <td>51.970001</td>\n      <td>52.595509</td>\n      <td>4.870000</td>\n      <td>10.026293</td>\n      <td>NaN</td>\n      <td>NaN</td>\n      <td>...</td>\n      <td>NaN</td>\n      <td>NaN</td>\n      <td>NaN</td>\n      <td>NaN</td>\n      <td>NaN</td>\n      <td>NaN</td>\n      <td>24.510000</td>\n      <td>NaN</td>\n      <td>NaN</td>\n      <td>NaN</td>\n      <td>NaN</td>\n      <td>NaN</td>\n      <td>NaN</td>\n      <td>NaN</td>\n      <td>0.3482</td>\n    </tr>\n    <tr>\n      <th>...</th>\n      <td>...</td>\n      <td>...</td>\n      <td>...</td>\n      <td>...</td>\n      <td>...</td>\n      <td>...</td>\n      <td>...</td>\n      <td>...</td>\n      <td>...</td>\n      <td>...</td>\n      <td>...</td>\n      <td>...</td>\n      <td>...</td>\n      <td>...</td>\n      <td>...</td>\n      <td>...</td>\n      <td>...</td>\n      <td>...</td>\n      <td>...</td>\n      <td>...</td>\n      <td>...</td>\n      <td>...</td>\n      <td>...</td>\n      <td>...</td>\n      <td>...</td>\n      <td>...</td>\n      <td>...</td>\n      <td>...</td>\n      <td>...</td>\n      <td>...</td>\n      <td>...</td>\n    </tr>\n    <tr>\n      <th>2020-12-29</th>\n      <td>1.190000</td>\n      <td>10.54</td>\n      <td>11.32</td>\n      <td>NaN</td>\n      <td>15.860000</td>\n      <td>2.100000</td>\n      <td>8.80</td>\n      <td>66.720001</td>\n      <td>134.869995</td>\n      <td>54.000000</td>\n      <td>88.160004</td>\n      <td>123.330002</td>\n      <td>37.250004</td>\n      <td>39.000000</td>\n      <td>20.299999</td>\n      <td>...</td>\n      <td>353.750000</td>\n      <td>9.61</td>\n      <td>10.45</td>\n      <td>54.540001</td>\n      <td>197.839996</td>\n      <td>0.558</td>\n      <td>36.610001</td>\n      <td>4.20</td>\n      <td>NaN</td>\n      <td>NaN</td>\n      <td>NaN</td>\n      <td>NaN</td>\n      <td>NaN</td>\n      <td>3.270</td>\n      <td>13.3200</td>\n    </tr>\n    <tr>\n      <th>2020-12-30</th>\n      <td>1.190000</td>\n      <td>10.47</td>\n      <td>11.22</td>\n      <td>NaN</td>\n      <td>16.150000</td>\n      <td>2.100000</td>\n      <td>8.60</td>\n      <td>66.489998</td>\n      <td>133.720001</td>\n      <td>54.610001</td>\n      <td>89.699997</td>\n      <td>123.879997</td>\n      <td>37.959999</td>\n      <td>41.099998</td>\n      <td>22.450001</td>\n      <td>...</td>\n      <td>353.399994</td>\n      <td>9.72</td>\n      <td>10.41</td>\n      <td>55.700001</td>\n      <td>201.309998</td>\n      <td>0.564</td>\n      <td>36.619999</td>\n      <td>4.44</td>\n      <td>NaN</td>\n      <td>NaN</td>\n      <td>NaN</td>\n      <td>NaN</td>\n      <td>NaN</td>\n      <td>3.320</td>\n      <td>14.0600</td>\n    </tr>\n    <tr>\n      <th>2020-12-31</th>\n      <td>1.190000</td>\n      <td>10.63</td>\n      <td>11.24</td>\n      <td>NaN</td>\n      <td>15.770000</td>\n      <td>2.060000</td>\n      <td>8.51</td>\n      <td>66.629997</td>\n      <td>132.690002</td>\n      <td>54.540001</td>\n      <td>89.610001</td>\n      <td>122.529999</td>\n      <td>38.070000</td>\n      <td>40.240002</td>\n      <td>21.549999</td>\n      <td>...</td>\n      <td>337.320007</td>\n      <td>9.87</td>\n      <td>10.52</td>\n      <td>51.939999</td>\n      <td>199.710007</td>\n      <td>0.527</td>\n      <td>36.779999</td>\n      <td>4.74</td>\n      <td>NaN</td>\n      <td>NaN</td>\n      <td>NaN</td>\n      <td>NaN</td>\n      <td>8.99</td>\n      <td>3.300</td>\n      <td>13.4600</td>\n    </tr>\n    <tr>\n      <th>2021-01-04</th>\n      <td>1.180000</td>\n      <td>10.66</td>\n      <td>11.30</td>\n      <td>NaN</td>\n      <td>15.130000</td>\n      <td>2.140000</td>\n      <td>8.76</td>\n      <td>64.709999</td>\n      <td>129.410004</td>\n      <td>55.389999</td>\n      <td>90.430000</td>\n      <td>116.849998</td>\n      <td>38.099998</td>\n      <td>39.099998</td>\n      <td>20.469999</td>\n      <td>...</td>\n      <td>359.980011</td>\n      <td>9.77</td>\n      <td>10.58</td>\n      <td>52.720001</td>\n      <td>196.089996</td>\n      <td>0.582</td>\n      <td>35.700001</td>\n      <td>4.61</td>\n      <td>NaN</td>\n      <td>NaN</td>\n      <td>22.0</td>\n      <td>NaN</td>\n      <td>NaN</td>\n      <td>3.325</td>\n      <td>13.8800</td>\n    </tr>\n    <tr>\n      <th>2021-01-05</th>\n      <td>1.230000</td>\n      <td>10.56</td>\n      <td>11.29</td>\n      <td>2.12</td>\n      <td>15.430000</td>\n      <td>2.600000</td>\n      <td>8.91</td>\n      <td>65.440002</td>\n      <td>131.009995</td>\n      <td>53.790001</td>\n      <td>92.650002</td>\n      <td>122.300003</td>\n      <td>39.110001</td>\n      <td>38.509998</td>\n      <td>20.290001</td>\n      <td>...</td>\n      <td>360.829987</td>\n      <td>9.84</td>\n      <td>10.59</td>\n      <td>52.119999</td>\n      <td>193.479996</td>\n      <td>0.805</td>\n      <td>36.080002</td>\n      <td>5.13</td>\n      <td>NaN</td>\n      <td>10.02</td>\n      <td>NaN</td>\n      <td>NaN</td>\n      <td>NaN</td>\n      <td>3.390</td>\n      <td>13.5100</td>\n    </tr>\n  </tbody>\n</table>\n<p>2517 rows × 3949 columns</p>\n</div>"
     },
     "metadata": {},
     "execution_count": 3
    }
   ],
   "source": [
    "fd = read_pickle('/home/gordon/work/Where-To-Put-Your-Money-In-Hard-Times/data/raw/nasdaq_10y_1d.pkl')\n",
    "fd"
   ]
  },
  {
   "cell_type": "code",
   "execution_count": null,
   "metadata": {},
   "outputs": [],
   "source": []
  }
 ]
}