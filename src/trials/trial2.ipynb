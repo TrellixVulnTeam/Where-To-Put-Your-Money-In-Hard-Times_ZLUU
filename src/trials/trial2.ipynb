{
 "metadata": {
  "language_info": {
   "codemirror_mode": {
    "name": "ipython",
    "version": 3
   },
   "file_extension": ".py",
   "mimetype": "text/x-python",
   "name": "python",
   "nbconvert_exporter": "python",
   "pygments_lexer": "ipython3",
   "version": "3.7.7-final"
  },
  "orig_nbformat": 2,
  "kernelspec": {
   "name": "python3",
   "display_name": "Python 3",
   "language": "python"
  }
 },
 "nbformat": 4,
 "nbformat_minor": 2,
 "cells": [
  {
   "cell_type": "code",
   "execution_count": 22,
   "metadata": {},
   "outputs": [],
   "source": [
    "start = 10000\n",
    "rate = 0.67\n",
    "years = 20"
   ]
  },
  {
   "cell_type": "code",
   "execution_count": 23,
   "metadata": {},
   "outputs": [
    {
     "output_type": "stream",
     "name": "stdout",
     "text": [
      "Returns For The SP500 INDEX WINNERS:\n\nyear 1 = $16,700.00 - tax @ 30% max = $2,010.00 - yielding a year end balance accounting for inflation of = $14,396.20\nyear 2 = $24,041.65 - tax @ 30% max = $2,893.64 - yielding a year end balance accounting for inflation of = $20,725.06\nyear 3 = $34,610.85 - tax @ 30% max = $4,165.74 - yielding a year end balance accounting for inflation of = $29,836.21\nyear 4 = $49,826.47 - tax @ 30% max = $5,997.08 - yielding a year end balance accounting for inflation of = $42,952.80\nyear 5 = $71,731.18 - tax @ 30% max = $8,633.51 - yielding a year end balance accounting for inflation of = $61,835.71\nyear 6 = $103,265.64 - tax @ 30% max = $12,428.98 - yielding a year end balance accounting for inflation of = $89,019.93\nyear 7 = $148,663.28 - tax @ 30% max = $17,893.01 - yielding a year end balance accounting for inflation of = $128,154.87\nyear 8 = $214,018.63 - tax @ 30% max = $25,759.13 - yielding a year end balance accounting for inflation of = $184,494.31\nyear 9 = $308,105.49 - tax @ 30% max = $37,083.36 - yielding a year end balance accounting for inflation of = $265,601.70\nyear 10 = $443,554.83 - tax @ 30% max = $53,385.94 - yielding a year end balance accounting for inflation of = $382,365.51\nyear 11 = $638,550.41 - tax @ 30% max = $76,855.47 - yielding a year end balance accounting for inflation of = $550,461.04\nyear 12 = $919,269.94 - tax @ 30% max = $110,642.67 - yielding a year end balance accounting for inflation of = $792,454.72\nyear 13 = $1,323,399.39 - tax @ 30% max = $159,283.40 - yielding a year end balance accounting for inflation of = $1,140,833.67\nyear 14 = $1,905,192.22 - tax @ 30% max = $229,307.57 - yielding a year end balance accounting for inflation of = $1,642,366.96\nyear 15 = $2,742,752.83 - tax @ 30% max = $330,115.76 - yielding a year end balance accounting for inflation of = $2,364,384.33\nyear 16 = $3,948,521.83 - tax @ 30% max = $475,241.25 - yielding a year end balance accounting for inflation of = $3,403,814.97\nyear 17 = $5,684,371.00 - tax @ 30% max = $684,166.81 - yielding a year end balance accounting for inflation of = $4,900,200.10\nyear 18 = $8,183,334.17 - tax @ 30% max = $984,940.22 - yielding a year end balance accounting for inflation of = $7,054,426.07\nyear 19 = $11,780,891.54 - tax @ 30% max = $1,417,939.64 - yielding a year end balance accounting for inflation of = $10,155,692.86\nyear 20 = $16,960,007.08 - tax @ 30% max = $2,041,294.27 - yielding a year end balance accounting for inflation of = $14,620,338.56\n"
     ]
    }
   ],
   "source": [
    "print('Returns For The SP500 INDEX WINNERS:\\n')\n",
    "for r in range(1, years+1):\n",
    "    c = start\n",
    "    start += (start * rate)\n",
    "    pre_tax = \"${:,.2f}\".format(start)\n",
    "    taxable = start - c\n",
    "    tax = taxable * .3\n",
    "    taxs = \"${:,.2f}\".format(tax)\n",
    "    start = start - tax\n",
    "    start = start * 0.98\n",
    "    year_end = \"${:,.2f}\".format(start)\n",
    "    print(f'year {r} = {pre_tax} - tax @ 30% max = {taxs} - yielding a year end balance accounting for inflation of = {year_end}')"
   ]
  },
  {
   "cell_type": "code",
   "execution_count": null,
   "metadata": {},
   "outputs": [],
   "source": []
  },
  {
   "cell_type": "code",
   "execution_count": null,
   "metadata": {},
   "outputs": [],
   "source": []
  }
 ]
}