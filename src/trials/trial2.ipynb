{
 "metadata": {
  "language_info": {
   "codemirror_mode": {
    "name": "ipython",
    "version": 3
   },
   "file_extension": ".py",
   "mimetype": "text/x-python",
   "name": "python",
   "nbconvert_exporter": "python",
   "pygments_lexer": "ipython3",
   "version": "3.7.7-final"
  },
  "orig_nbformat": 2,
  "kernelspec": {
   "name": "python3",
   "display_name": "Python 3",
   "language": "python"
  }
 },
 "nbformat": 4,
 "nbformat_minor": 2,
 "cells": [
  {
   "cell_type": "code",
   "execution_count": 12,
   "metadata": {},
   "outputs": [],
   "source": [
    "out = np.array([\n",
    "    25,\n",
    "    25,\n",
    "    500,\n",
    "\n",
    "    500,\n",
    "    500,\n",
    "    500,\n",
    "    500,\n",
    "    500,\n",
    "    500,\n",
    "\n",
    "    500,\n",
    "    500,\n",
    "    1000,\n",
    "\n",
    "    500,\n",
    "    750,\n",
    "    750,\n",
    "\n",
    "    1000,\n",
    "    \n",
    "    2000,\n",
    "    1600\n",
    "])"
   ]
  },
  {
   "cell_type": "code",
   "execution_count": 16,
   "metadata": {},
   "outputs": [],
   "source": [
    "ins = np.array([\n",
    "    -2500\n",
    "])"
   ]
  },
  {
   "cell_type": "code",
   "execution_count": 47,
   "metadata": {},
   "outputs": [
    {
     "output_type": "stream",
     "name": "stdout",
     "text": [
      "money out = $12,150.00,\n money in $-2,500.00\n > net = $9,650.00\n now = 14121.21\n total gain = $4,471.21\n return = 0.46%\n"
     ]
    }
   ],
   "source": [
    "import numpy as np\n",
    "o = out.sum().astype(float)\n",
    "i = ins.sum().astype(float)\n",
    "oi = (o + i).astype(float)\n",
    "oo = \"${:,.2f}\".format(out.sum())\n",
    "ii = \"${:,.2f}\".format(ins.sum())\n",
    "ooii = \"${:,.2f}\".format(oi)\n",
    "n = 14121.21\n",
    "nn = \"${:,.2f}\".format(14041.21)\n",
    "tg = n - oi\n",
    "tgg = \"${:,.2f}\".format(tg)\n",
    "r = tg / oi\n",
    "rr = \"{:,.2f}%\".format(r)\n",
    "\n",
    "print(f'money out = {oo},\\n money in {ii}\\n > net = {ooii}\\n now = {n}\\n total gain = {tgg}\\n return = {rr}')"
   ]
  },
  {
   "cell_type": "code",
   "execution_count": 48,
   "metadata": {},
   "outputs": [
    {
     "output_type": "execute_result",
     "data": {
      "text/plain": [
       "'$89,754.15'"
      ]
     },
     "metadata": {},
     "execution_count": 48
    }
   ],
   "source": [
    "\"${:,.2f}\".format(n + 53460.94 + 2700 + 16522 + 2950)"
   ]
  },
  {
   "cell_type": "code",
   "execution_count": null,
   "metadata": {},
   "outputs": [],
   "source": []
  }
 ]
}